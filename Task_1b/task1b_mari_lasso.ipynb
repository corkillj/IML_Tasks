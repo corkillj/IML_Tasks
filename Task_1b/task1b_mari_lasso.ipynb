{
 "cells": [
  {
   "cell_type": "code",
   "execution_count": 32,
   "outputs": [],
   "source": [
    "import numpy as np\n",
    "import pandas as pd\n",
    "import matplotlib.pyplot as plt"
   ],
   "metadata": {
    "collapsed": false,
    "pycharm": {
     "name": "#%%\n"
    }
   }
  },
  {
   "cell_type": "code",
   "execution_count": 33,
   "outputs": [
    {
     "data": {
      "text/plain": "            y    x1    x2    x3    x4    x5\n0   -6.822679  0.02  0.05 -0.09 -0.43 -0.08\n1   -6.326290 -0.13  0.11 -0.08 -0.29 -0.03\n2   -9.302728  0.08  0.06 -0.07 -0.41 -0.03\n3   -7.371893  0.02 -0.12  0.01 -0.43 -0.02\n4   -6.027647 -0.14 -0.12 -0.08 -0.02 -0.08\n..        ...   ...   ...   ...   ...   ...\n695 -6.147394  0.31 -0.09  0.04 -0.09  0.03\n696 -6.214899 -0.26 -0.01  0.02 -0.40  0.05\n697 -6.841341 -0.27 -0.22 -0.01 -0.32 -0.05\n698 -6.523371  0.19  0.11 -0.05 -0.27 -0.04\n699 -5.676683 -0.09 -0.09 -0.06 -0.41 -0.06\n\n[700 rows x 6 columns]",
      "text/html": "<div>\n<style scoped>\n    .dataframe tbody tr th:only-of-type {\n        vertical-align: middle;\n    }\n\n    .dataframe tbody tr th {\n        vertical-align: top;\n    }\n\n    .dataframe thead th {\n        text-align: right;\n    }\n</style>\n<table border=\"1\" class=\"dataframe\">\n  <thead>\n    <tr style=\"text-align: right;\">\n      <th></th>\n      <th>y</th>\n      <th>x1</th>\n      <th>x2</th>\n      <th>x3</th>\n      <th>x4</th>\n      <th>x5</th>\n    </tr>\n  </thead>\n  <tbody>\n    <tr>\n      <th>0</th>\n      <td>-6.822679</td>\n      <td>0.02</td>\n      <td>0.05</td>\n      <td>-0.09</td>\n      <td>-0.43</td>\n      <td>-0.08</td>\n    </tr>\n    <tr>\n      <th>1</th>\n      <td>-6.326290</td>\n      <td>-0.13</td>\n      <td>0.11</td>\n      <td>-0.08</td>\n      <td>-0.29</td>\n      <td>-0.03</td>\n    </tr>\n    <tr>\n      <th>2</th>\n      <td>-9.302728</td>\n      <td>0.08</td>\n      <td>0.06</td>\n      <td>-0.07</td>\n      <td>-0.41</td>\n      <td>-0.03</td>\n    </tr>\n    <tr>\n      <th>3</th>\n      <td>-7.371893</td>\n      <td>0.02</td>\n      <td>-0.12</td>\n      <td>0.01</td>\n      <td>-0.43</td>\n      <td>-0.02</td>\n    </tr>\n    <tr>\n      <th>4</th>\n      <td>-6.027647</td>\n      <td>-0.14</td>\n      <td>-0.12</td>\n      <td>-0.08</td>\n      <td>-0.02</td>\n      <td>-0.08</td>\n    </tr>\n    <tr>\n      <th>...</th>\n      <td>...</td>\n      <td>...</td>\n      <td>...</td>\n      <td>...</td>\n      <td>...</td>\n      <td>...</td>\n    </tr>\n    <tr>\n      <th>695</th>\n      <td>-6.147394</td>\n      <td>0.31</td>\n      <td>-0.09</td>\n      <td>0.04</td>\n      <td>-0.09</td>\n      <td>0.03</td>\n    </tr>\n    <tr>\n      <th>696</th>\n      <td>-6.214899</td>\n      <td>-0.26</td>\n      <td>-0.01</td>\n      <td>0.02</td>\n      <td>-0.40</td>\n      <td>0.05</td>\n    </tr>\n    <tr>\n      <th>697</th>\n      <td>-6.841341</td>\n      <td>-0.27</td>\n      <td>-0.22</td>\n      <td>-0.01</td>\n      <td>-0.32</td>\n      <td>-0.05</td>\n    </tr>\n    <tr>\n      <th>698</th>\n      <td>-6.523371</td>\n      <td>0.19</td>\n      <td>0.11</td>\n      <td>-0.05</td>\n      <td>-0.27</td>\n      <td>-0.04</td>\n    </tr>\n    <tr>\n      <th>699</th>\n      <td>-5.676683</td>\n      <td>-0.09</td>\n      <td>-0.09</td>\n      <td>-0.06</td>\n      <td>-0.41</td>\n      <td>-0.06</td>\n    </tr>\n  </tbody>\n</table>\n<p>700 rows × 6 columns</p>\n</div>"
     },
     "execution_count": 33,
     "metadata": {},
     "output_type": "execute_result"
    }
   ],
   "source": [
    "X_train = pd.read_csv('train.csv', index_col=False).drop(columns=['Id'])\n",
    "X_train"
   ],
   "metadata": {
    "collapsed": false,
    "pycharm": {
     "name": "#%%\n"
    }
   }
  },
  {
   "cell_type": "code",
   "execution_count": 34,
   "outputs": [
    {
     "data": {
      "text/plain": "0     -6.822679\n1     -6.326290\n2     -9.302728\n3     -7.371893\n4     -6.027647\n         ...   \n695   -6.147394\n696   -6.214899\n697   -6.841341\n698   -6.523371\n699   -5.676683\nName: y, Length: 700, dtype: float64"
     },
     "execution_count": 34,
     "metadata": {},
     "output_type": "execute_result"
    }
   ],
   "source": [
    "y_train = X_train['y']\n",
    "y_train"
   ],
   "metadata": {
    "collapsed": false,
    "pycharm": {
     "name": "#%%\n"
    }
   }
  },
  {
   "cell_type": "code",
   "execution_count": 35,
   "outputs": [
    {
     "data": {
      "text/plain": "       x1    x2    x3    x4    x5\n0    0.02  0.05 -0.09 -0.43 -0.08\n1   -0.13  0.11 -0.08 -0.29 -0.03\n2    0.08  0.06 -0.07 -0.41 -0.03\n3    0.02 -0.12  0.01 -0.43 -0.02\n4   -0.14 -0.12 -0.08 -0.02 -0.08\n..    ...   ...   ...   ...   ...\n695  0.31 -0.09  0.04 -0.09  0.03\n696 -0.26 -0.01  0.02 -0.40  0.05\n697 -0.27 -0.22 -0.01 -0.32 -0.05\n698  0.19  0.11 -0.05 -0.27 -0.04\n699 -0.09 -0.09 -0.06 -0.41 -0.06\n\n[700 rows x 5 columns]",
      "text/html": "<div>\n<style scoped>\n    .dataframe tbody tr th:only-of-type {\n        vertical-align: middle;\n    }\n\n    .dataframe tbody tr th {\n        vertical-align: top;\n    }\n\n    .dataframe thead th {\n        text-align: right;\n    }\n</style>\n<table border=\"1\" class=\"dataframe\">\n  <thead>\n    <tr style=\"text-align: right;\">\n      <th></th>\n      <th>x1</th>\n      <th>x2</th>\n      <th>x3</th>\n      <th>x4</th>\n      <th>x5</th>\n    </tr>\n  </thead>\n  <tbody>\n    <tr>\n      <th>0</th>\n      <td>0.02</td>\n      <td>0.05</td>\n      <td>-0.09</td>\n      <td>-0.43</td>\n      <td>-0.08</td>\n    </tr>\n    <tr>\n      <th>1</th>\n      <td>-0.13</td>\n      <td>0.11</td>\n      <td>-0.08</td>\n      <td>-0.29</td>\n      <td>-0.03</td>\n    </tr>\n    <tr>\n      <th>2</th>\n      <td>0.08</td>\n      <td>0.06</td>\n      <td>-0.07</td>\n      <td>-0.41</td>\n      <td>-0.03</td>\n    </tr>\n    <tr>\n      <th>3</th>\n      <td>0.02</td>\n      <td>-0.12</td>\n      <td>0.01</td>\n      <td>-0.43</td>\n      <td>-0.02</td>\n    </tr>\n    <tr>\n      <th>4</th>\n      <td>-0.14</td>\n      <td>-0.12</td>\n      <td>-0.08</td>\n      <td>-0.02</td>\n      <td>-0.08</td>\n    </tr>\n    <tr>\n      <th>...</th>\n      <td>...</td>\n      <td>...</td>\n      <td>...</td>\n      <td>...</td>\n      <td>...</td>\n    </tr>\n    <tr>\n      <th>695</th>\n      <td>0.31</td>\n      <td>-0.09</td>\n      <td>0.04</td>\n      <td>-0.09</td>\n      <td>0.03</td>\n    </tr>\n    <tr>\n      <th>696</th>\n      <td>-0.26</td>\n      <td>-0.01</td>\n      <td>0.02</td>\n      <td>-0.40</td>\n      <td>0.05</td>\n    </tr>\n    <tr>\n      <th>697</th>\n      <td>-0.27</td>\n      <td>-0.22</td>\n      <td>-0.01</td>\n      <td>-0.32</td>\n      <td>-0.05</td>\n    </tr>\n    <tr>\n      <th>698</th>\n      <td>0.19</td>\n      <td>0.11</td>\n      <td>-0.05</td>\n      <td>-0.27</td>\n      <td>-0.04</td>\n    </tr>\n    <tr>\n      <th>699</th>\n      <td>-0.09</td>\n      <td>-0.09</td>\n      <td>-0.06</td>\n      <td>-0.41</td>\n      <td>-0.06</td>\n    </tr>\n  </tbody>\n</table>\n<p>700 rows × 5 columns</p>\n</div>"
     },
     "execution_count": 35,
     "metadata": {},
     "output_type": "execute_result"
    }
   ],
   "source": [
    "X_train = X_train.drop(columns=['y'])\n",
    "X_train"
   ],
   "metadata": {
    "collapsed": false,
    "pycharm": {
     "name": "#%%\n"
    }
   }
  },
  {
   "cell_type": "code",
   "execution_count": 36,
   "outputs": [],
   "source": [
    "phi = np.zeros((len(X_train), 21))"
   ],
   "metadata": {
    "collapsed": false,
    "pycharm": {
     "name": "#%%\n"
    }
   }
  },
  {
   "cell_type": "code",
   "execution_count": 37,
   "outputs": [
    {
     "data": {
      "text/plain": "array([[ 0.02      ,  0.05      , -0.09      , ...,  0.90896575,\n         0.99680171,  1.        ],\n       [-0.13      ,  0.11      , -0.08      , ...,  0.95824388,\n         0.99955003,  1.        ],\n       [ 0.08      ,  0.06      , -0.07      , ...,  0.91712082,\n         0.99955003,  1.        ],\n       ...,\n       [-0.27      , -0.22      , -0.01      , ...,  0.94923542,\n         0.99875026,  1.        ],\n       [ 0.19      ,  0.11      , -0.05      , ...,  0.9637709 ,\n         0.99920011,  1.        ],\n       [-0.09      , -0.09      , -0.06      , ...,  0.91712082,\n         0.99820054,  1.        ]])"
     },
     "execution_count": 37,
     "metadata": {},
     "output_type": "execute_result"
    }
   ],
   "source": [
    "phi[:, 0:5] = X_train.values\n",
    "phi[:, 5:10] = np.square(X_train)\n",
    "phi[:, 10:15] = np.exp(X_train)\n",
    "phi[:, 15:20] = np.cos(X_train)\n",
    "phi[:, 20] = 1\n",
    "phi"
   ],
   "metadata": {
    "collapsed": false,
    "pycharm": {
     "name": "#%%\n"
    }
   }
  },
  {
   "cell_type": "code",
   "execution_count": 66,
   "outputs": [
    {
     "name": "stderr",
     "output_type": "stream",
     "text": [
      "/Users/mariankannwischer/opt/anaconda3/envs/IML/lib/python3.7/site-packages/sklearn/linear_model/_coordinate_descent.py:532: ConvergenceWarning: Objective did not converge. You might want to increase the number of iterations. Duality gap: 2.9636052955365813, tolerance: 2.7704990978643087\n",
      "  positive)\n",
      "/Users/mariankannwischer/opt/anaconda3/envs/IML/lib/python3.7/site-packages/sklearn/linear_model/_coordinate_descent.py:532: ConvergenceWarning: Objective did not converge. You might want to increase the number of iterations. Duality gap: 3.3770182325406495, tolerance: 2.7226918915578544\n",
      "  positive)\n"
     ]
    }
   ],
   "source": [
    "from sklearn.linear_model import LinearRegression, ElasticNet\n",
    "from sklearn.model_selection import cross_validate\n",
    "\n",
    "clf = ElasticNet(alpha=0.1, l1_ratio=1, fit_intercept=False)\n",
    "cv_result = cross_validate(clf, phi, y_train, scoring='neg_root_mean_squared_error', cv=10)"
   ],
   "metadata": {
    "collapsed": false,
    "pycharm": {
     "name": "#%%\n"
    }
   }
  },
  {
   "cell_type": "code",
   "execution_count": 67,
   "outputs": [
    {
     "name": "stdout",
     "output_type": "stream",
     "text": [
      "[1.85010214 1.87161369 2.03422895 2.04053108 1.43619366 2.18920443\n",
      " 2.08287691 1.95991828 2.07034859 1.99511757]\n"
     ]
    },
    {
     "data": {
      "text/plain": "1.9530135298038982"
     },
     "execution_count": 67,
     "metadata": {},
     "output_type": "execute_result"
    }
   ],
   "source": [
    "print(-cv_result['test_score'])\n",
    "np.mean(-cv_result['test_score'])"
   ],
   "metadata": {
    "collapsed": false,
    "pycharm": {
     "name": "#%%\n"
    }
   }
  },
  {
   "cell_type": "code",
   "execution_count": 68,
   "outputs": [],
   "source": [
    "clf.fit(X=phi, y=y_train)\n",
    "sub = pd.Series(clf.coef_)\n",
    "sub.to_csv('Lasso.csv', header=False, index=False)"
   ],
   "metadata": {
    "collapsed": false,
    "pycharm": {
     "name": "#%%\n"
    }
   }
  },
  {
   "cell_type": "code",
   "execution_count": null,
   "outputs": [],
   "source": [],
   "metadata": {
    "collapsed": false,
    "pycharm": {
     "name": "#%%\n"
    }
   }
  }
 ],
 "metadata": {
  "kernelspec": {
   "display_name": "Python 3",
   "language": "python",
   "name": "python3"
  },
  "language_info": {
   "codemirror_mode": {
    "name": "ipython",
    "version": 2
   },
   "file_extension": ".py",
   "mimetype": "text/x-python",
   "name": "python",
   "nbconvert_exporter": "python",
   "pygments_lexer": "ipython2",
   "version": "2.7.6"
  }
 },
 "nbformat": 4,
 "nbformat_minor": 0
}